{
 "cells": [
  {
   "cell_type": "code",
   "execution_count": 1,
   "id": "7366e2b7",
   "metadata": {},
   "outputs": [],
   "source": [
    "import numpy as np"
   ]
  },
  {
   "cell_type": "code",
   "execution_count": 2,
   "id": "9108d174",
   "metadata": {},
   "outputs": [],
   "source": [
    "W = np.array([[1., 1.]])\n",
    "b = np.array([1.])\n",
    "\n",
    "x = np.array([1., 1.])\n",
    "y = np.array([1.])"
   ]
  },
  {
   "cell_type": "code",
   "execution_count": 6,
   "id": "70dbdd92",
   "metadata": {},
   "outputs": [
    {
     "data": {
      "text/plain": [
       "array([2.])"
      ]
     },
     "execution_count": 6,
     "metadata": {},
     "output_type": "execute_result"
    }
   ],
   "source": [
    "y_pred = np.matmul(W,x)+b\n",
    "f = 0.5*(y_pred-y)**2\n",
    "f"
   ]
  },
  {
   "cell_type": "code",
   "execution_count": 14,
   "id": "6860d64c",
   "metadata": {},
   "outputs": [
    {
     "data": {
      "text/plain": [
       "array([[2., 2.]])"
      ]
     },
     "execution_count": 14,
     "metadata": {},
     "output_type": "execute_result"
    }
   ],
   "source": [
    "GW = (y_pred-y).transpose().reshape((1,1)) * x.reshape((2,1)).transpose()\n",
    "GW"
   ]
  },
  {
   "cell_type": "code",
   "execution_count": 16,
   "id": "3a072db5",
   "metadata": {},
   "outputs": [
    {
     "data": {
      "text/plain": [
       "array([2.])"
      ]
     },
     "execution_count": 16,
     "metadata": {},
     "output_type": "execute_result"
    }
   ],
   "source": [
    "GB = y_pred-y\n",
    "GB"
   ]
  },
  {
   "cell_type": "code",
   "execution_count": 18,
   "id": "1f03c11f",
   "metadata": {},
   "outputs": [
    {
     "data": {
      "text/plain": [
       "numpy.ndarray"
      ]
     },
     "execution_count": 18,
     "metadata": {},
     "output_type": "execute_result"
    }
   ],
   "source": [
    "a = np.array([1.,2.])\n",
    "b = np.array([3.,4.])\n",
    "type(np.outer(a,b))"
   ]
  },
  {
   "cell_type": "code",
   "execution_count": null,
   "id": "3a0d0fa3",
   "metadata": {},
   "outputs": [],
   "source": []
  }
 ],
 "metadata": {
  "kernelspec": {
   "display_name": "Python 3",
   "language": "python",
   "name": "python3"
  },
  "language_info": {
   "codemirror_mode": {
    "name": "ipython",
    "version": 3
   },
   "file_extension": ".py",
   "mimetype": "text/x-python",
   "name": "python",
   "nbconvert_exporter": "python",
   "pygments_lexer": "ipython3",
   "version": "3.10.2"
  }
 },
 "nbformat": 4,
 "nbformat_minor": 5
}
